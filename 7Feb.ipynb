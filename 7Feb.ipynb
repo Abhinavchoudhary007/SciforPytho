{
  "nbformat": 4,
  "nbformat_minor": 0,
  "metadata": {
    "colab": {
      "provenance": []
    },
    "kernelspec": {
      "name": "python3",
      "display_name": "Python 3"
    },
    "language_info": {
      "name": "python"
    }
  },
  "cells": [
    {
      "cell_type": "markdown",
      "source": [
        "#Synchronous CLASS"
      ],
      "metadata": {
        "id": "Zv4KWA1_-dYU"
      }
    },
    {
      "cell_type": "code",
      "execution_count": 4,
      "metadata": {
        "colab": {
          "base_uri": "https://localhost:8080/"
        },
        "id": "0LWVpCbh93g9",
        "outputId": "6aefa9f2-664b-4c69-f6e0-b90401c6117c"
      },
      "outputs": [
        {
          "output_type": "stream",
          "name": "stdout",
          "text": [
            "Task 1 started.\n",
            "Task 1 completed.\n",
            "Task 2 started.\n",
            "Task 2 completed.\n"
          ]
        }
      ],
      "source": [
        "import time\n",
        "\n",
        "class SyncEx :\n",
        "  def task(self):\n",
        "    print(\"Task 1 started.\")\n",
        "    time.sleep(2)\n",
        "    print(\"Task 1 completed.\")\n",
        "\n",
        "  def task2(self):\n",
        "    print(\"Task 2 started.\")\n",
        "    time.sleep(1)\n",
        "    print(\"Task 2 completed.\")\n",
        "  def run(self):\n",
        "      self.task()\n",
        "      self.task2()\n",
        "\n",
        "obj = SyncEx()\n",
        "obj.run()"
      ]
    },
    {
      "cell_type": "markdown",
      "source": [
        "#Asynchronous"
      ],
      "metadata": {
        "id": "rCTcDnHf_XxM"
      }
    },
    {
      "cell_type": "code",
      "source": [
        "import asyncio\n",
        "\n",
        "class AsyncEx :\n",
        "  async def task(self):\n",
        "    print(\"Task 1 started.\")\n",
        "    await asyncio.sleep(2)\n",
        "    print(\"Task 1 completed.\")\n",
        "\n",
        "  async def task2(self):\n",
        "    print(\"Task 2 started.\")\n",
        "    await asyncio.sleep(1)\n",
        "    print(\"Task 2 completed.\")\n",
        "\n",
        "  async def run(self):\n",
        "    await asyncio.gather(self.task(), self.task2())\n",
        "obj = AsyncEx()\n",
        "await obj.run()"
      ],
      "metadata": {
        "colab": {
          "base_uri": "https://localhost:8080/"
        },
        "id": "Bl7a0paf_yt5",
        "outputId": "2b336136-d52a-486d-8edd-461ac057c56d"
      },
      "execution_count": 13,
      "outputs": [
        {
          "output_type": "stream",
          "name": "stdout",
          "text": [
            "Task 1 started.\n",
            "Task 2 started.\n",
            "Task 2 completed.\n",
            "Task 1 completed.\n"
          ]
        }
      ]
    }
  ]
}