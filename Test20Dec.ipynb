{
  "nbformat": 4,
  "nbformat_minor": 0,
  "metadata": {
    "colab": {
      "provenance": []
    },
    "kernelspec": {
      "name": "python3",
      "display_name": "Python 3"
    },
    "language_info": {
      "name": "python"
    }
  },
  "cells": [
    {
      "cell_type": "code",
      "execution_count": 7,
      "metadata": {
        "colab": {
          "base_uri": "https://localhost:8080/"
        },
        "id": "Lei3sHcNpG9T",
        "outputId": "3f0eab2a-3894-4e37-faed-22cc888079d2"
      },
      "outputs": [
        {
          "output_type": "stream",
          "name": "stdout",
          "text": [
            "Candy Vending Machine\n",
            "Enter the total number of candies to load into the vending machine: 4\n",
            "The vending machine is loaded with  4  candies.\n",
            "\n",
            "Candy Vending Machine\n",
            "Total candies available:  4\n",
            "Enter the number of candies you want: 3\n",
            "Cost of  3 candies is $ 3 . Please proceed to payment.\n",
            "\n",
            "Enter the amount: $3\n",
            "Payment successful. Delivering your candies...\n",
            "\n",
            "Delivering candy...\n",
            "Delivering candy...\n",
            "Delivering candy...\n",
            "\n",
            "Candies left in the vending machine:  1\n",
            "Thank you for shopping with us!\n",
            "\n",
            "Candy Vending Machine\n",
            "Total candies available:  1\n",
            "Enter the number of candies you want: 1\n",
            "Cost of  1 candies is $ 1 . Please proceed to payment.\n",
            "\n",
            "Enter the amount: $1\n",
            "Payment successful. Delivering your candies...\n",
            "\n",
            "Delivering candy...\n",
            "\n",
            "Candies left in the vending machine:  0\n",
            "Thank you for shopping with us!\n",
            "\n",
            "The vending machine is out of candies. Please reload.\n"
          ]
        }
      ],
      "source": [
        "print(\"Candy Vending Machine\")\n",
        "total_candies_to_load = int(input(\"Enter the total number of candies to load into the vending machine: \"))\n",
        "print(\"The vending machine is loaded with \" ,total_candies_to_load ,\" candies.\\n\")\n",
        "\n",
        "while total_candies_to_load > 0:\n",
        "    print(\"Candy Vending Machine\")\n",
        "    print(\"Total candies available: \",total_candies_to_load)\n",
        "    noOfCandiesUserWants = int(input(\"Enter the number of candies you want: \"))\n",
        "\n",
        "    if noOfCandiesUserWants <= 0 or noOfCandiesUserWants > total_candies_to_load:\n",
        "        print(\"You have entered a number of candies which is either zero or less than zero, or more than available candies.\")\n",
        "        print(\"Please try again or visit once again. Thanks for shopping with us! We will be happy to serve you again.\\n\")\n",
        "        continue\n",
        "\n",
        "    total_cost = noOfCandiesUserWants\n",
        "    print(\"Cost of \",noOfCandiesUserWants,\"candies is $\", total_cost ,\". Please proceed to payment.\\n\")\n",
        "\n",
        "    UserMoney = int(input(\"Enter the amount: $\"))\n",
        "\n",
        "    if UserMoney == total_cost:\n",
        "        print(\"Payment successful. Delivering your candies...\\n\")\n",
        "        for _ in range(noOfCandiesUserWants):\n",
        "            print(\"Delivering candy...\")\n",
        "        total_candies_to_load -= noOfCandiesUserWants\n",
        "        print(\"\\nCandies left in the vending machine: \",total_candies_to_load)\n",
        "        print(\"Thank you for shopping with us!\\n\")\n",
        "    else:\n",
        "        print(\"You entered the wrong amount. Try again!\\n\")\n",
        "\n",
        "print(\"The vending machine is out of candies. Please reload.\")\n",
        "\n",
        "\n",
        "\n"
      ]
    },
    {
      "cell_type": "markdown",
      "source": [
        "#Question 2\n"
      ],
      "metadata": {
        "id": "ug1qfeBHtS5-"
      }
    },
    {
      "cell_type": "code",
      "source": [
        "start = int(input(\"Enter the starting number: \"))\n",
        "end = int(input(\"Enter the ending number: \"))\n",
        "\n",
        "print(\"Even numbers in the range:\")\n",
        "for num in range(start, end + 1):\n",
        "    if num % 2 == 0:\n",
        "        print(num, end=\" \")\n",
        "\n",
        "print(\"\\nOdd numbers in the range:\")\n",
        "for num in range(start, end + 1):\n",
        "    if num % 2 != 0:\n",
        "        print(num, end=\" \")\n"
      ],
      "metadata": {
        "colab": {
          "base_uri": "https://localhost:8080/"
        },
        "id": "e-w6i21ptB3y",
        "outputId": "28e339ba-e891-419a-9440-62321c1012a3"
      },
      "execution_count": 2,
      "outputs": [
        {
          "output_type": "stream",
          "name": "stdout",
          "text": [
            "Enter the starting number: 1\n",
            "Enter the ending number: 100\n",
            "Even numbers in the range:\n",
            "2 4 6 8 10 12 14 16 18 20 22 24 26 28 30 32 34 36 38 40 42 44 46 48 50 52 54 56 58 60 62 64 66 68 70 72 74 76 78 80 82 84 86 88 90 92 94 96 98 100 \n",
            "Odd numbers in the range:\n",
            "1 3 5 7 9 11 13 15 17 19 21 23 25 27 29 31 33 35 37 39 41 43 45 47 49 51 53 55 57 59 61 63 65 67 69 71 73 75 77 79 81 83 85 87 89 91 93 95 97 99 "
          ]
        }
      ]
    },
    {
      "cell_type": "markdown",
      "source": [
        "#Question 3\n"
      ],
      "metadata": {
        "id": "wW2_me7GtdfO"
      }
    },
    {
      "cell_type": "code",
      "source": [
        "input_string = input(\"Enter a string: \")\n",
        "\n",
        "upper_count = 0\n",
        "lower_count = 0\n",
        "digit_count = 0\n",
        "symbol_count = 0\n",
        "\n",
        "for char in input_string:\n",
        "    if char.isupper():\n",
        "        upper_count += 1\n",
        "    elif char.islower():\n",
        "        lower_count += 1\n",
        "    elif char.isdigit():\n",
        "        digit_count += 1\n",
        "    else:\n",
        "        symbol_count += 1\n",
        "\n",
        "print(\"Uppercase Letters:\", upper_count)\n",
        "print(\"Lowercase Letters:\", lower_count)\n",
        "print(\"Digits:\", digit_count)\n",
        "print(\"Symbols:\", symbol_count)\n"
      ],
      "metadata": {
        "colab": {
          "base_uri": "https://localhost:8080/"
        },
        "id": "PRD7DRy_tfb2",
        "outputId": "2001f70e-8fa3-4850-ed09-3cc3265af412"
      },
      "execution_count": 3,
      "outputs": [
        {
          "output_type": "stream",
          "name": "stdout",
          "text": [
            "Enter a string: Abhi@1234\n",
            "Uppercase Letters: 1\n",
            "Lowercase Letters: 3\n",
            "Digits: 4\n",
            "Symbols: 1\n"
          ]
        }
      ]
    },
    {
      "cell_type": "markdown",
      "source": [
        "# Question 4"
      ],
      "metadata": {
        "id": "itUE6Wwct7k1"
      }
    },
    {
      "cell_type": "code",
      "source": [
        "name = input(\"Enter your name: \")\n",
        "password = input(\"Enter your password: \")\n",
        "\n",
        "if password.isalpha():\n",
        "    print(\"Password is valid. Welcome to the dashboard!\")\n",
        "else:\n",
        "    print(\"Invalid password! Please enter a password with only alphabets.\")\n"
      ],
      "metadata": {
        "colab": {
          "base_uri": "https://localhost:8080/"
        },
        "id": "OO263C7It-Qu",
        "outputId": "8f307a3d-d3eb-41e4-fc59-d67472f9d51c"
      },
      "execution_count": 5,
      "outputs": [
        {
          "output_type": "stream",
          "name": "stdout",
          "text": [
            "Enter your name: Abhi\n",
            "Enter your password: Abhi\n",
            "Password is valid. Welcome to the dashboard!\n"
          ]
        }
      ]
    },
    {
      "cell_type": "markdown",
      "source": [
        "#Question 5"
      ],
      "metadata": {
        "id": "4XqIXfAwuXac"
      }
    },
    {
      "cell_type": "code",
      "source": [
        "year = int(input(\"Enter a year: \"))\n",
        "\n",
        "if (year % 4 == 0 and year % 100 != 0) or (year % 400 == 0):\n",
        "    print(year,\" is a leap year.\")\n",
        "else:\n",
        "    print(year,\" is not a leap year.\")\n"
      ],
      "metadata": {
        "colab": {
          "base_uri": "https://localhost:8080/"
        },
        "id": "tE9vhTRfuZrO",
        "outputId": "f58aeaae-7496-41bd-c837-88990b558b57"
      },
      "execution_count": 6,
      "outputs": [
        {
          "output_type": "stream",
          "name": "stdout",
          "text": [
            "Enter a year: 2024\n",
            "2024  is a leap year.\n"
          ]
        }
      ]
    }
  ]
}