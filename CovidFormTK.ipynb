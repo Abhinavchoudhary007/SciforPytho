{
 "cells": [
  {
   "cell_type": "code",
   "execution_count": null,
   "id": "1d721959-be9d-4089-9389-29112bd73b0b",
   "metadata": {},
   "outputs": [],
   "source": [
    "import tkinter as tk \n",
    "from tkinter import messagebox\n",
    "\n",
    "class CovidVaccinationForm:\n",
    "    def __init__(self,root):\n",
    "        self.root = root\n",
    "        self.root.title(\"COVID Vaccination Form\")\n",
    "        tk.Label(root, text = \"Full Name:\" ).grid(row= 0 , column= 0 , padx= 10, pady=5 )\n",
    "        tk.Label(root, text = \"Age:\" ).grid(row= 1 , column= 0 , padx= 10, pady=5 )\n",
    "        tk.Label(root, text = \"Gender:\" ).grid(row= 2 , column= 0 , padx= 10, pady=5 )\n",
    "        tk.Label(root, text = \"Phone Number:\" ).grid(row= 3 , column= 0 , padx= 10, pady=5 )\n",
    "\n",
    "        self.name_entry = tk.Entry(root)\n",
    "        self.age_entry = tk.Entry(root)\n",
    "        self.gender_var = tk.StringVar(value= \"Select\")\n",
    "        self.phone_entry = tk.Entry(root)\n",
    "\n",
    "        self.name_entry.grid(row= 0, column= 1 , padx= 10 , pady=5)\n",
    "        self.age_entry.grid(row= 1, column= 1 , padx= 10 , pady=5)\n",
    "        tk.OptionMenu(root,self.gender_var, \"Male\" , \"Female\" , \"Other\").grid(row= 2, column= 1 , padx= 10 , pady=5)\n",
    "        self.phone_entry.grid(row= 3, column= 1 , padx= 10 , pady=5)\n",
    "\n",
    "        tk.Button(root, text=\"Submit\" ,command=self.submit).grid(row= 4, column= 1 , padx= 10 , pady=5)\n",
    "    def submit(self):\n",
    "        name = self.name_entry.get()\n",
    "        age = self.age_entry.get()\n",
    "        gender = self.gender_var.get()\n",
    "        phone = self.phone_entry.get()\n",
    "\n",
    "        if not name or not age or gender ==\"Select\" or not phone:\n",
    "            messagebox.showerror(\"Error\", \"All fields are required!\")\n",
    "            return\n",
    "        try:\n",
    "            age= int(age)\n",
    "            if age <=0:\n",
    "                raise ValueError\n",
    "        except ValueError:\n",
    "            messagebox.showerror(\"Error\",\"Enter a valid age!\")\n",
    "            return\n",
    "        if not phone.isdigit() or len(phone) != 10:\n",
    "            messagebox.showerror(\"Error\", \"Enter a valid 10-digit Phone number!\")\n",
    "            return\n",
    "        messagebox.sh\n",
    "        print(\"Name\", name , \"Age\" , age , \"Gender\" , gender , \"Phone Number\" ,phone)\n",
    "if __name__ == \"__main__\":\n",
    "    root= tk.Tk()\n",
    "    CovidVaccinationForm(root)\n",
    "    root.mainloop()"
   ]
  },
  {
   "cell_type": "code",
   "execution_count": null,
   "id": "31e67142-a703-4907-ae66-01b0b4c4d94b",
   "metadata": {},
   "outputs": [],
   "source": []
  }
 ],
 "metadata": {
  "kernelspec": {
   "display_name": "Python [conda env:base] *",
   "language": "python",
   "name": "conda-base-py"
  },
  "language_info": {
   "codemirror_mode": {
    "name": "ipython",
    "version": 3
   },
   "file_extension": ".py",
   "mimetype": "text/x-python",
   "name": "python",
   "nbconvert_exporter": "python",
   "pygments_lexer": "ipython3",
   "version": "3.12.7"
  }
 },
 "nbformat": 4,
 "nbformat_minor": 5
}
