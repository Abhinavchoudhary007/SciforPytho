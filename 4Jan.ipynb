{
 "cells": [
  {
   "cell_type": "code",
   "execution_count": 4,
   "id": "4afd1728-50b8-42e8-bf16-1413fb5f21ee",
   "metadata": {},
   "outputs": [
    {
     "name": "stderr",
     "output_type": "stream",
     "text": [
      "Exception in Tkinter callback\n",
      "Traceback (most recent call last):\n",
      "  File \"C:\\Users\\ABHINAV\\anaconda3\\Lib\\tkinter\\__init__.py\", line 1968, in __call__\n",
      "    return self.func(*args)\n",
      "           ^^^^^^^^^^^^^^^^\n",
      "  File \"C:\\Users\\ABHINAV\\AppData\\Local\\Temp\\ipykernel_4628\\3746230358.py\", line 9, in fetch_data\n",
      "    display_data(data)\n",
      "  File \"C:\\Users\\ABHINAV\\AppData\\Local\\Temp\\ipykernel_4628\\3746230358.py\", line 17, in display_data\n",
      "    text_box.insert(tk.END , f\"ID:{user['ID']}\\nName:{user['name']}\\nEmail:{user['email']}\\n\\n\")\n",
      "                                   ~~~~^^^^^^\n",
      "KeyError: 'ID'\n",
      "Exception in Tkinter callback\n",
      "Traceback (most recent call last):\n",
      "  File \"C:\\Users\\ABHINAV\\anaconda3\\Lib\\tkinter\\__init__.py\", line 1968, in __call__\n",
      "    return self.func(*args)\n",
      "           ^^^^^^^^^^^^^^^^\n",
      "  File \"C:\\Users\\ABHINAV\\AppData\\Local\\Temp\\ipykernel_4628\\3746230358.py\", line 9, in fetch_data\n",
      "    display_data(data)\n",
      "  File \"C:\\Users\\ABHINAV\\AppData\\Local\\Temp\\ipykernel_4628\\3746230358.py\", line 17, in display_data\n",
      "    text_box.insert(tk.END , f\"ID:{user['ID']}\\nName:{user['name']}\\nEmail:{user['email']}\\n\\n\")\n",
      "                                   ~~~~^^^^^^\n",
      "KeyError: 'ID'\n"
     ]
    }
   ],
   "source": [
    "import requests\n",
    "import tkinter as tk\n",
    "\n",
    "def fetch_data():\n",
    "    url = \"https://jsonplaceholder.typicode.com/users\"\n",
    "    response = requests.get(url)\n",
    "    if response.status_code == 200:\n",
    "        data = response.json()\n",
    "        display_data(data) \n",
    "    else:\n",
    "        label.config(text = \"Failed to Fetch the data\" , fg = \"red\" )\n",
    "\n",
    "def display_data(data):\n",
    "    text_box.delete(\"1.0\" ,tk.END)\n",
    "\n",
    "    for user in data:\n",
    "        text_box.insert(tk.END , f\"ID:{user['ID']}\\nName:{user['name']}\\nEmail:{user['email']}\\n\\n\")\n",
    "root = tk.Tk()\n",
    "root.title(\"API data Display\")\n",
    "\n",
    "\n",
    "button = tk.Button(root , text =\"Fetch Data\" , command = fetch_data)\n",
    "button.pack(pady=10)\n",
    "\n",
    "text_box = tk.Text(root , wrap = \"word\", height = 15 , width = 50)\n",
    "text_box.pack(expand = True , fill = \"both\")\n",
    "\n",
    "label = tk.Label(root , text= \"\" , fg = \"black\")\n",
    "label.pack(pady = 5)\n",
    "\n",
    "root.mainloop()"
   ]
  },
  {
   "cell_type": "code",
   "execution_count": null,
   "id": "cd282bda-53a3-4588-baa0-2df37cc7c58d",
   "metadata": {},
   "outputs": [],
   "source": []
  }
 ],
 "metadata": {
  "kernelspec": {
   "display_name": "Python [conda env:base] *",
   "language": "python",
   "name": "conda-base-py"
  },
  "language_info": {
   "codemirror_mode": {
    "name": "ipython",
    "version": 3
   },
   "file_extension": ".py",
   "mimetype": "text/x-python",
   "name": "python",
   "nbconvert_exporter": "python",
   "pygments_lexer": "ipython3",
   "version": "3.12.7"
  }
 },
 "nbformat": 4,
 "nbformat_minor": 5
}
