{
 "cells": [
  {
   "cell_type": "code",
   "execution_count": 26,
   "id": "7156491e-ce1e-48ce-8eee-6540f3ceb355",
   "metadata": {},
   "outputs": [],
   "source": [
    "import tkinter as tk\n",
    "from tkinter import ttk , messagebox\n",
    "import requests\n",
    "import json\n",
    "API_URL = \"https://jsonplaceholder.typicode.com/posts\"\n",
    "def send_requests(method):\n",
    "    post_id = entry_id.get()\n",
    "    url = API_URL if not post_id else f\"{API_URL}/{post_id}\"\n",
    "    try:\n",
    "        data_obj = {\n",
    "            \"title\":entry_title.get(),\n",
    "            \"body\":entry_body.get(),\n",
    "            \"userId\": 1\n",
    "        }\n",
    "        json_data = json.dumps(data_obj)\n",
    "        if method == \"GET\":\n",
    "            response = requests.get(url)\n",
    "        elif method == \"POST\":\n",
    "            response = requests.post(API_URL , data = json_data , headers = {\"Content-type \":\"application/json\"})\n",
    "        elif method == \"PUT\" :\n",
    "            response = requests.put(API_URL , data = json_data , headers = {\"Content-type \":\"application/json\"})\n",
    "        elif method == \"DELETE\" :\n",
    "            response = requests.delete(url)\n",
    "        else:\n",
    "            messagebox.showerror(\"Error\", \"Invalid Method\")\n",
    "            return\n",
    "        if response.status_code in [200, 201]:\n",
    "             messagebox.showinfo(\"success\", response.json())\n",
    "        else:\n",
    "            messagebox.showerror(\"Error\" , f\"Status Code : {response.status_code}\\n {response.text}\")\n",
    "    except Exception as e:\n",
    "            messagebox.showerror(\"Error\", str(e))\n",
    "\n",
    "root = tk.Tk()\n",
    "root.title(\"API JSON Serialization\")\n",
    "\n",
    "ttk.Label(root , text = \"Post ID (for GET , PUT , DELETE):\").pack(pady=5)\n",
    "entry_id = ttk.Entry(root)\n",
    "entry_id.pack(pady=5)\n",
    "\n",
    "ttk.Label(root , text = \"Title  (for POST, PUT ):\").pack(pady=5)\n",
    "entry_title = ttk.Entry(root)\n",
    "entry_title.pack(pady=5)\n",
    "\n",
    "ttk.Label(root , text = \"Body (for POST , PUT ):\").pack(pady=5)\n",
    "entry_body = ttk.Entry(root)\n",
    "entry_body.pack(pady=5)\n",
    "\n",
    "\n",
    "\n",
    "ttk.Button(root, text = \"GET\", command = lambda: send_requests(\"GET\")).pack(pady=5)\n",
    "ttk.Button(root, text = \"POST\", command = lambda: send_requests(\"POST\")).pack(pady=5)\n",
    "ttk.Button(root, text = \"PUT\", command = lambda: send_requests(\"PUT\")).pack(pady=5)\n",
    "ttk.Button(root, text = \"DELETE\" , command = lambda: send_requests(\"DELETE\")).pack(pady=5)\n",
    "\n",
    "root.mainloop()"
   ]
  },
  {
   "cell_type": "code",
   "execution_count": null,
   "id": "e5edbacc-4521-41a9-a5c3-43996edb2313",
   "metadata": {},
   "outputs": [],
   "source": []
  },
  {
   "cell_type": "code",
   "execution_count": null,
   "id": "72b26adb-5ef2-4f97-afb8-30bd7f40e95a",
   "metadata": {},
   "outputs": [],
   "source": []
  }
 ],
 "metadata": {
  "kernelspec": {
   "display_name": "Python [conda env:base] *",
   "language": "python",
   "name": "conda-base-py"
  },
  "language_info": {
   "codemirror_mode": {
    "name": "ipython",
    "version": 3
   },
   "file_extension": ".py",
   "mimetype": "text/x-python",
   "name": "python",
   "nbconvert_exporter": "python",
   "pygments_lexer": "ipython3",
   "version": "3.12.7"
  }
 },
 "nbformat": 4,
 "nbformat_minor": 5
}
