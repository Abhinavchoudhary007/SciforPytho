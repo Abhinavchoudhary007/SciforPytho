{
 "cells": [
  {
   "cell_type": "code",
   "execution_count": 54,
   "id": "525de79e-7b2c-4a53-8ec6-6aff8886588d",
   "metadata": {},
   "outputs": [],
   "source": [
    "import tkinter as tk\n",
    "from tkinter import messagebox\n",
    "\n",
    "class TicTacToe:\n",
    "    def __init__(self,root):\n",
    "        self.root=root\n",
    "        self.root.title(\"Tic Tac Toe\")\n",
    "        self.root.geometry(\"300x300\")\n",
    "        \n",
    "        self.player_turn = \"X\"\n",
    "        self.board = [\"\"]*9\n",
    "        self.buttons = []\n",
    "        self.ui()\n",
    "    def ui(self):\n",
    "        for i in range(9):\n",
    "            button = tk.Button(self.root , text = \"\", font = (\"Arial\", 20) , width = 5 , height = 2 ,command = lambda i=i:self.make_move(i))\n",
    "            button.grid(row=i // 3 , column =i %3)\n",
    "            self.buttons.append(button)\n",
    "        reset_button = tk.Button(self.root , text = \"Reset\", bg=\"Skyblue\" , font = (\"Arial\", 20) ,command = self.reset_game)\n",
    "        reset_button.grid(row=3, column = 0, columnspan=3)\n",
    "\n",
    "    def make_move(self,index):\n",
    "        if not self.board[index] and not self.check_winner():\n",
    "            self.board[index] = self.player_turn\n",
    "            self.buttons[index].config(text=self.player_turn)\n",
    "            if self.check_winner():\n",
    "                messagebox.showinfo(\"GAME OVER\" , f\"Player {self.player_turn} wins!\")\n",
    "            elif \"\" not in self.board:\n",
    "                messagebox.showinfo(\"GAME OVER, It's a tie!\")\n",
    "            else:\n",
    "                self.player_turn = \"0\" if self.player_turn ==\"X\" else \"X\"\n",
    "    def check_winner(self):\n",
    "        winning_combinations = [ (0,1,2), (3,4,5) , (6,7,8) , (0,3,6) , (1,4,7), (2,5,8) , (0,4,8), (2,4,6) ]\n",
    "        for a , b , c in winning_combinations:\n",
    "            if self.board[a]==self.board[b]==self.board[c] and self.board[a] != \"\":\n",
    "                return True\n",
    "        return False\n",
    "            \n",
    "    def reset_game(self):\n",
    "         self.board = [\"\"] *9\n",
    "         self.player_turn = \"X\"\n",
    "         for button in self.buttons:\n",
    "            button.config(text=\"\")\n",
    "if __name__ == \"__main__\":\n",
    "    root = tk.Tk()\n",
    "    game = TicTacToe(root)\n",
    "    root.mainloop()\n",
    "    "
   ]
  },
  {
   "cell_type": "code",
   "execution_count": null,
   "id": "683ad938-8438-4a1c-950b-df13a95d4f51",
   "metadata": {},
   "outputs": [],
   "source": []
  }
 ],
 "metadata": {
  "kernelspec": {
   "display_name": "Python [conda env:base] *",
   "language": "python",
   "name": "conda-base-py"
  },
  "language_info": {
   "codemirror_mode": {
    "name": "ipython",
    "version": 3
   },
   "file_extension": ".py",
   "mimetype": "text/x-python",
   "name": "python",
   "nbconvert_exporter": "python",
   "pygments_lexer": "ipython3",
   "version": "3.12.7"
  }
 },
 "nbformat": 4,
 "nbformat_minor": 5
}
